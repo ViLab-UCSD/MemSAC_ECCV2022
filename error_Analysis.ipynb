{
 "cells": [
  {
   "cell_type": "code",
   "execution_count": 1,
   "id": "084d8211",
   "metadata": {},
   "outputs": [],
   "source": [
    "import torch\n",
    "import torch.nn as nn\n",
    "import fg_pre_process as prep\n",
    "from fg_data_list import ImageList\n",
    "import numpy as np\n",
    "from torchvision import transforms\n",
    "\n",
    "import fg_model_no_class as model_no\n",
    "\n",
    "from sklearn.svm import LinearSVC"
   ]
  },
  {
   "cell_type": "code",
   "execution_count": 2,
   "id": "67fa3655",
   "metadata": {},
   "outputs": [],
   "source": [
    "transform = transforms.Compose([\n",
    "    transforms.Resize(256),\n",
    "    # ResizeImage(resize_size),\n",
    "    transforms.CenterCrop((224,224)),\n",
    "    transforms.ToTensor(),\n",
    "    transforms.Normalize(mean=[0.485, 0.456, 0.406],\n",
    "                                   std=[0.229, 0.224, 0.225])\n",
    "  ])"
   ]
  },
  {
   "cell_type": "markdown",
   "id": "ae82c5a5",
   "metadata": {},
   "source": [
    "## Define model"
   ]
  },
  {
   "cell_type": "code",
   "execution_count": 3,
   "id": "56f28579",
   "metadata": {},
   "outputs": [],
   "source": [
    "class fine_net(nn.Module):\n",
    "    def __init__(self, total_classes):\n",
    "        super(fine_net, self).__init__()\n",
    "        self.model_fc = model_no.Resnet50Fc()\n",
    "        feature_len = self.model_fc.output_num()\n",
    "        self.bottleneck_0 = nn.Linear(feature_len, 256)\n",
    "        self.bottleneck_0.weight.data.normal_(0, 0.005)\n",
    "        self.bottleneck_0.bias.data.fill_(0.1)\n",
    "        self.bottleneck_layer = nn.Sequential(self.bottleneck_0, nn.ReLU())\n",
    "        self.classifier_layer = predictor(256, total_classes)\n",
    "\n",
    "    def forward(self, x):\n",
    "        features = self.model_fc(x)\n",
    "        out_bottleneck = self.bottleneck_layer(features)\n",
    "        logits = self.classifier_layer(out_bottleneck)\n",
    "        return out_bottleneck.detach(), logits.detach()\n",
    "    \n",
    "class predictor(nn.Module):\n",
    "    def __init__(self, feature_len, cate_num):\n",
    "        super(predictor, self).__init__()\n",
    "        self.classifier = nn.Linear(feature_len, cate_num)\n",
    "        self.classifier.weight.data.normal_(0, 0.01)\n",
    "        self.classifier.bias.data.fill_(0.0)\n",
    "\n",
    "    def forward(self, features):\n",
    "        activations = self.classifier(features)\n",
    "        return (activations)"
   ]
  },
  {
   "cell_type": "code",
   "execution_count": 4,
   "id": "3c703c64",
   "metadata": {},
   "outputs": [],
   "source": [
    "class AverageMeter(object):\n",
    "    \"\"\"Computes and stores the average and current value\"\"\"\n",
    "    def __init__(self):\n",
    "        self.reset()\n",
    "\n",
    "    def reset(self):\n",
    "        self.val = 0\n",
    "        self.avg = 0\n",
    "        self.sum = 0\n",
    "        self.count = 0\n",
    "\n",
    "    def update(self, val, n=1):\n",
    "        self.val = val\n",
    "        self.sum += val * n\n",
    "        self.count += n\n",
    "        self.avg = self.sum / self.count\n",
    "        \n"
   ]
  },
  {
   "cell_type": "markdown",
   "id": "2480d8af",
   "metadata": {},
   "source": [
    "## Load the source and target data"
   ]
  },
  {
   "cell_type": "code",
   "execution_count": 7,
   "id": "50a4179b",
   "metadata": {},
   "outputs": [],
   "source": [
    "dataset_list = ImageList(\"/newfoundland/tarun/datasets/birds/\", open(\"./data/cub200/cub200_drawing.txt\").readlines(), transform=prep.image_test(resize_size=256, crop_size=224))\n",
    "dataset_loader_source = torch.utils.data.DataLoader(dataset_list, batch_size=64, shuffle=True, num_workers=16, drop_last=True)\n",
    "\n",
    "dataset_list = ImageList(\"/newfoundland/tarun/datasets/birds/\", open(\"./data/cub200/cub200_2011.txt\").readlines(), transform=prep.image_test(resize_size=256, crop_size=224))\n",
    "dataset_loader_target = torch.utils.data.DataLoader(dataset_list, batch_size=64, shuffle=True, num_workers=16, drop_last=True)"
   ]
  },
  {
   "cell_type": "markdown",
   "id": "0da28b76",
   "metadata": {},
   "source": [
    "## Collect features for CDAN model"
   ]
  },
  {
   "cell_type": "code",
   "execution_count": 8,
   "id": "264d4236",
   "metadata": {},
   "outputs": [
    {
     "name": "stdout",
     "output_type": "stream",
     "text": [
      "tensor(0.5278, device='cuda:0')\n"
     ]
    }
   ],
   "source": [
    "load_model = \"snapshot/cub2011_syncWithCluster/CDAN_drawingcub_tau0-007_simcoeff0_LL0/best_model.pth.tar\"\n",
    "model = fine_net(200)\n",
    "saved_state_dict = torch.load(load_model)\n",
    "model.load_state_dict(saved_state_dict, strict=True)\n",
    "model.eval()\n",
    "model.cuda()\n",
    "\n",
    "cdan_source_features = []\n",
    "for images , _ in dataset_loader_source:\n",
    "    images = images.cuda()\n",
    "    features , _ = model(images)\n",
    "    cdan_source_features.append(features)\n",
    "cdan_source_features = torch.cat(cdan_source_features)\n",
    "  \n",
    "    \n",
    "accuracy = AverageMeter()    \n",
    "cdan_target_features = []\n",
    "for images , labels in dataset_loader_target:\n",
    "    images = images.cuda()\n",
    "    features , logits = model(images)\n",
    "    preds = logits.argmax(1)\n",
    "    accuracy.update(torch.sum(preds == labels.cuda())*1.0/len(images) , len(images))\n",
    "    cdan_target_features.append(features)\n",
    "cdan_target_features = torch.cat(cdan_target_features)    \n",
    "\n",
    "print(accuracy.avg)\n",
    "cdan_features = torch.cat([cdan_source_features , cdan_target_features]).cpu().numpy()\n",
    "cdan_labels = np.array([0]*len(cdan_source_features) + [1]*len(cdan_target_features))"
   ]
  },
  {
   "cell_type": "code",
   "execution_count": null,
   "id": "0c4a1b21",
   "metadata": {},
   "outputs": [],
   "source": [
    "clf = LinearSVC(max_iter=5e4)\n",
    "clf.fit(cdan_features, cdan_labels)\n",
    "clf.score(cdan_features, cdan_labels)"
   ]
  },
  {
   "cell_type": "markdown",
   "id": "aec3f302",
   "metadata": {},
   "source": [
    "## Collect features for ILA model"
   ]
  },
  {
   "cell_type": "code",
   "execution_count": null,
   "id": "aa1c4b47",
   "metadata": {},
   "outputs": [],
   "source": [
    "load_model = \"snapshot/cub2011_syncWithCluster/CDAN_drawingcub_tau0-007_simcoeff0-1_LL0/best_model.pth.tar\"\n",
    "model = fine_net(200)\n",
    "saved_state_dict = torch.load(load_model)\n",
    "model.load_state_dict(saved_state_dict, strict=True)\n",
    "model.eval()\n",
    "model.cuda()\n",
    "\n",
    "ila_source_features = []\n",
    "for images , _ in dataset_loader_source:\n",
    "    images = images.cuda()\n",
    "    features , _ = model(images)\n",
    "    ila_source_features.append(features)\n",
    "ila_source_features = torch.cat(ila_source_features)\n",
    "    \n",
    "accuracy = AverageMeter()\n",
    "ila_target_features = []\n",
    "for images , labels in dataset_loader_target:\n",
    "    images = images.cuda()\n",
    "    labels = labels.cuda()\n",
    "    features, logits = model(images)\n",
    "    preds = logits.argmax(1)\n",
    "    accuracy.update(torch.sum(preds == labels.cuda())*1.0/len(images) , len(images))\n",
    "    ila_target_features.append(features)\n",
    "ila_target_features = torch.cat(ila_target_features)    \n",
    "\n",
    "print(accuracy.avg)\n",
    "ila_features = torch.cat([ila_source_features , ila_target_features]).cpu().numpy()\n",
    "ila_labels = np.array([0]*len(ila_source_features) + [1]*len(ila_target_features))"
   ]
  },
  {
   "cell_type": "code",
   "execution_count": null,
   "id": "6647774c",
   "metadata": {},
   "outputs": [],
   "source": [
    "clf = LinearSVC(max_iter=5e4)\n",
    "clf.fit(ila_features, ila_labels)\n",
    "clf.score(ila_features, ila_labels)"
   ]
  },
  {
   "cell_type": "markdown",
   "id": "e8d137da",
   "metadata": {},
   "source": [
    "## Source only baseline model"
   ]
  },
  {
   "cell_type": "code",
   "execution_count": null,
   "id": "568618ec",
   "metadata": {},
   "outputs": [],
   "source": [
    "load_model = \"/newfoundland/tarun/ila_old_saved_models/cub2011_old/drawing_Only/best_model.pth.tar\"\n",
    "model = fine_net(200)\n",
    "saved_state_dict = torch.load(load_model)\n",
    "saved_state_dict = {k.partition(\"module.\")[-1]:v for k,v in saved_state_dict.items()}\n",
    "model.load_state_dict(saved_state_dict, strict=True)\n",
    "model.eval()\n",
    "model.cuda()\n",
    "\n",
    "baseline_source_features = []\n",
    "for images , _ in dataset_loader_source:\n",
    "    images = images.cuda()\n",
    "    features , _ = model(images)\n",
    "    baseline_source_features.append(features)\n",
    "baseline_source_features = torch.cat(baseline_source_features)\n",
    "    \n",
    "accuracy = AverageMeter()\n",
    "baseline_target_features = []\n",
    "for images , labels in dataset_loader_target:\n",
    "    images = images.cuda()\n",
    "    labels = labels.cuda()\n",
    "    features, logits = model(images)\n",
    "    preds = logits.argmax(1)\n",
    "    accuracy.update(torch.sum(preds == labels.cuda())*1.0/len(images) , len(images))\n",
    "    baseline_target_features.append(features)\n",
    "baseline_target_features = torch.cat(baseline_target_features)    \n",
    "\n",
    "print(accuracy.avg)\n",
    "baseline_features = torch.cat([baseline_source_features , baseline_target_features]).cpu().numpy()\n",
    "baseline_labels = np.array([0]*len(baseline_source_features) + [1]*len(baseline_target_features))"
   ]
  },
  {
   "cell_type": "code",
   "execution_count": null,
   "id": "680c619f",
   "metadata": {},
   "outputs": [],
   "source": [
    "clf = LinearSVC(max_iter=5e4)\n",
    "clf.fit(baseline_features, baseline_labels)\n",
    "clf.score(baseline_features, baseline_labels)"
   ]
  },
  {
   "cell_type": "code",
   "execution_count": 20,
   "id": "7aabbdaa",
   "metadata": {},
   "outputs": [
    {
     "data": {
      "image/png": "[encoded data removed]",
      "text/plain": [
       "<Figure size 576x432 with 1 Axes>"
      ]
     },
     "metadata": {
      "needs_background": "light"
     },
     "output_type": "display_data"
    }
   ],
   "source": [
    "MS = [1.9,1.6,1.3]\n",
    "SM = [1.7,1.5,1.2]\n",
    "\n",
    "import matplotlib.pyplot as plt\n",
    "fig, ax = plt.subplots(figsize=(8,6))\n",
    "\n",
    "labels = [\"Source\" , \"MME\" , \"DANN\"]\n",
    "\n",
    "plt.bar(np.array(range(len(MS)))+.1 , MS, width=.2 , label=\"MNIST -> USPS\")\n",
    "plt.bar(np.array(range(len(SM)))-.1 , SM, width=.2, label=\"USPS -> MNIST\")\n",
    "plt.xticks(range(len(MS)) , labels)\n",
    "plt.legend()\n",
    "\n",
    "plt.xlabel(\"Adaptation procedure\")\n",
    "plt.ylabel(\"Proxy H divergence\")\n",
    "fig.show()"
   ]
  },
  {
   "cell_type": "raw",
   "id": "fcbd72ba",
   "metadata": {},
   "source": []
  }
 ],
 "metadata": {
  "kernelspec": {
   "display_name": "Python 3",
   "language": "python",
   "name": "python3"
  },
  "language_info": {
   "codemirror_mode": {
    "name": "ipython",
    "version": 3
   },
   "file_extension": ".py",
   "mimetype": "text/x-python",
   "name": "python",
   "nbconvert_exporter": "python",
   "pygments_lexer": "ipython3",
   "version": "3.6.9"
  }
 },
 "nbformat": 4,
 "nbformat_minor": 5
}
