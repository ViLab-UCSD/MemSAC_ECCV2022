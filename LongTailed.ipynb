{
 "cells": [
  {
   "cell_type": "code",
   "execution_count": null,
   "id": "57e2c6aa",
   "metadata": {},
   "outputs": [],
   "source": [
    "import numpy as np\n",
    "import matplotlib.pyplot as plt\n",
    "from scipy.stats import powerlaw\n",
    "import pylab as p\n",
    "import torch"
   ]
  },
  {
   "cell_type": "code",
   "execution_count": null,
   "id": "2245c662",
   "metadata": {},
   "outputs": [],
   "source": [
    "plt.figure(figsize=(12,10))\n",
    "ax = plt.gca()\n",
    "\n",
    "a = 0.025\n",
    "rv = powerlaw(a)\n",
    "x = np.linspace(0.05,0.5,1000)\n",
    "y = rv.pdf(x)\n",
    "plt.plot(x, y, 'k--', lw=2, label='frozen pdf')\n",
    "ax.fill_between(x, np.zeros(len(x)),y, color=\"orange\", alpha=0.75)\n",
    "\n",
    "a = 0.01\n",
    "rv = powerlaw(a)\n",
    "x = np.linspace(0.05,0.5,1000)\n",
    "y = rv.pdf(x)\n",
    "plt.plot(x, y, 'k-', lw=2, label='frozen pdf', alpha=0.75)\n",
    "ax.fill_between(x, np.zeros(len(x)),y)\n",
    "\n",
    "ax.spines['top'].set_visible(False)\n",
    "ax.spines['right'].set_visible(False)\n",
    "ax.spines['bottom'].set_visible(False)\n",
    "ax.spines['left'].set_visible(False)\n",
    "\n",
    "ax.get_xaxis().set_ticks([])\n",
    "ax.get_yaxis().set_ticks([])\n",
    "\n",
    "plt.show()"
   ]
  },
  {
   "cell_type": "code",
   "execution_count": null,
   "id": "d105e7a8",
   "metadata": {},
   "outputs": [],
   "source": [
    "a = 0.05\n",
    "rv = powerlaw(a)\n",
    "x = np.linspace(0.05,0.5,1000)\n",
    "y = rv.pdf(x)\n",
    "plt.plot(x, y, 'k-', lw=2, label='frozen pdf')\n",
    "ax = plt.gca()\n",
    "ax.fill_between(x, np.zeros(len(x)),y)"
   ]
  },
  {
   "cell_type": "code",
   "execution_count": null,
   "id": "7cee300f",
   "metadata": {},
   "outputs": [],
   "source": [
    "import pandas as pd\n",
    "df = pd.read_csv(\"/newfoundland/tarun/datasets/Adaptation/visDA/real/classes.txt\", sep=\"\\s\", header=None, engine=\"python\")\n",
    "classids = df[1].values\n",
    "sorted_classids = torch.Tensor(classids).unfold(dimension=0, size=3, step=1).mean(1).numpy()[::-1]\n",
    "target_classes = sorted_classids"
   ]
  },
  {
   "cell_type": "code",
   "execution_count": null,
   "id": "01268982",
   "metadata": {},
   "outputs": [],
   "source": [
    "plt.figure(figsize=(17,10))\n",
    "ax = plt.gca()\n",
    "\n",
    "x = np.arange(len(target_classes))\n",
    "\n",
    "y = target_classes\n",
    "ax.fill_between(x, np.zeros(len(x)),y, color=\"orange\", alpha=0.5)\n",
    "\n",
    "a = 0.01\n",
    "y = np.sort(target_classes)[::-1]\n",
    "factor = np.arange(0.05,0.3,0.25/len(target_classes))[::-1]\n",
    "y_source = y*factor\n",
    "# rv = powerlaw(a)\n",
    "# x = np.linspace(0.05,0.5,1000)\n",
    "# y = rv.pdf(x)\n",
    "plt.plot(x, y_source, 'k-', lw=2, label='frozen pdf')\n",
    "ax.fill_between(x, np.zeros(len(x)),y_source)\n",
    "\n",
    "ax.spines['top'].set_visible(False)\n",
    "ax.spines['right'].set_visible(False)\n",
    "ax.spines['bottom'].set_visible(False)\n",
    "ax.spines['left'].set_visible(False)\n",
    "\n",
    "ax.get_xaxis().set_ticks([])\n",
    "ax.get_yaxis().set_ticks([])\n",
    "\n",
    "# plt.ylabel(\"Samples per class\", fontsize=30, loc=\"bottom\")\n",
    "\n",
    "plt.show()"
   ]
  },
  {
   "cell_type": "code",
   "execution_count": null,
   "id": "aecff65e",
   "metadata": {},
   "outputs": [],
   "source": [
    "len(target_classes)"
   ]
  },
  {
   "cell_type": "markdown",
   "id": "d06f69f8",
   "metadata": {},
   "source": [
    "## Long tailed DA"
   ]
  },
  {
   "cell_type": "code",
   "execution_count": 15,
   "id": "7b683239",
   "metadata": {},
   "outputs": [],
   "source": [
    "import torch\n",
    "import numpy as np\n",
    "import matplotlib.pyplot as plt\n",
    "import os\n",
    "\n",
    "\n",
    "from eval import prep, ImageList, AverageMeter, predictor, fine_net\n",
    "\n",
    "os.environ[\"CUDA_VISIBLE_DEVICES\"] = \"0\"\n",
    "classwise_accuracy = {}"
   ]
  },
  {
   "cell_type": "code",
   "execution_count": 16,
   "id": "f1d496f2",
   "metadata": {},
   "outputs": [
    {
     "name": "stdout",
     "output_type": "stream",
     "text": [
      "Size of target dataset: 21850\n"
     ]
    }
   ],
   "source": [
    "source = \"sketch\"\n",
    "target = \"painting\"\n",
    "file_path = {\"real\": \"./data/visDA_full/real_test.txt\" ,\n",
    "\"sketch\": \"./data/visDA_full/sketch_test.txt\" ,\n",
    "\"painting\": \"./data/visDA_full/painting_test.txt\" ,\n",
    "\"clipart\": \"./data/visDA_full/clipart_test.txt\"}\n",
    "dataset_test = file_path[target]\n",
    "\n",
    "dataset_list = ImageList(\"/newfoundland/tarun/datasets/Adaptation/visDA/\", open(dataset_test).readlines(), transform=prep.image_test(resize_size=256, crop_size=224))\n",
    "print(\"Size of target dataset:\" , len(dataset_list))\n",
    "test_loader = torch.utils.data.DataLoader(dataset_list, batch_size=64, shuffle=False, num_workers=16, drop_last=False)"
   ]
  },
  {
   "cell_type": "code",
   "execution_count": 17,
   "id": "36798b40",
   "metadata": {},
   "outputs": [],
   "source": [
    "import pandas as pd\n",
    "df = pd.read_csv(\"/newfoundland/tarun/datasets/Adaptation/visDA/%s/classes.txt\"%(source), sep=\"\\s\", header=None, engine=\"python\")\n",
    "classnames = (df[0].values).tolist()\n",
    "class_sizes = dict(zip(df[0], df[1]))\n",
    "sorted_classes = sorted(class_sizes.items(), key = lambda k : k[1], reverse=True)\n",
    "\n",
    "sorted_names = [sc[0] for sc in sorted_classes]\n",
    "sorted_values = [sc[1] for sc in sorted_classes]"
   ]
  },
  {
   "cell_type": "code",
   "execution_count": 20,
   "id": "347fa268",
   "metadata": {},
   "outputs": [
    {
     "name": "stdout",
     "output_type": "stream",
     "text": [
      "341/342\n",
      "Correct Predictions: 7259/21850\n",
      "test_acc:0.3322\n",
      "341/342\n",
      "Correct Predictions: 9010/21850\n",
      "test_acc:0.4124\n",
      "341/342\n",
      "Correct Predictions: 5167/21850\n",
      "test_acc:0.2365\n"
     ]
    }
   ],
   "source": [
    "for model in [\"CDAN\", \"MemSAC_CAS\", \"SourceOnly\"]:\n",
    "\n",
    "    my_fine_net = fine_net(345)\n",
    "    my_fine_net = my_fine_net.cuda()\n",
    "\n",
    "    if model == \"CDAN\":\n",
    "        model_path = os.path.join(\"snapshot/domainNet_full/\" , model, \"CDAN_%s%s_QS_48000_BS_32_tau_0-007_lambda_0\"%(source, target), \"best_model.pth.tar\")\n",
    "    elif model == \"SourceOnly\":\n",
    "        model_path = os.path.join(\"snapshot/domainNet_full/\" , model, \"MemSAC_%s%s_SourceOnly\"%(source, target), \"best_model.pth.tar\")\n",
    "    elif model == \"MemSAC_CAS\":\n",
    "        model_path = os.path.join(\"snapshot/domainNet_full/\" , model, \"%s_%s\"%(source, target), \"best_model.pth.tar\")\n",
    "    else:\n",
    "        model_path = os.path.join(\"snapshot/domainNet_full/\" , model, \"DANN_%s%s_QS_48000_BS_32_tau_0-007_lambda_0\"%(source, target), \"best_model.pth.tar\")\n",
    "    saved_state_dict = torch.load(model_path)\n",
    "\n",
    "    try:\n",
    "        my_fine_net.load_state_dict(saved_state_dict, strict=True)\n",
    "    except:\n",
    "        saved_state_dict = {k.partition(\"module.\")[-1]:v for k,v in saved_state_dict.items()}\n",
    "        my_fine_net.load_state_dict(saved_state_dict, strict=True)\n",
    "    my_fine_net.eval();\n",
    "\n",
    "    correct = {name:0 for name in classnames}\n",
    "    total = {name:0 for name in classnames}\n",
    "    accuracy = AverageMeter()\n",
    "    with torch.no_grad():\n",
    "        for i , (inputs, labels, path) in enumerate(test_loader):\n",
    "            print(\"{0}/{1}\".format(i,len(test_loader)) , end=\"\\r\")\n",
    "            inputs = inputs.cuda()\n",
    "            labels = labels.cuda()\n",
    "            cnames = [p.split(\"/\")[-2] for p in path]\n",
    "            outputs = my_fine_net(inputs).detach()\n",
    "            predictions = outputs.argmax(1)\n",
    "\n",
    "\n",
    "            accurate_evals = (predictions == labels)\n",
    "            total_correct = torch.sum(accurate_evals.float())/len(outputs)\n",
    "            accuracy.update(total_correct.item(), len(outputs))\n",
    "\n",
    "            for ans, cn in zip(accurate_evals, cnames):\n",
    "                total[cn] += 1\n",
    "                if ans == 1:\n",
    "                    correct[cn] += 1    \n",
    "    print_str = \"\\nCorrect Predictions: {}/{}\".format(int(accuracy.sum), accuracy.count)\n",
    "    print_str1 = '\\ntest_acc:{:.4f}'.format(accuracy.avg)\n",
    "    print(print_str + print_str1)\n",
    "\n",
    "    classwise_accuracy[model] = {cname:correct[cname]/max(total[cname], 1e-5) for cname in total}"
   ]
  },
  {
   "cell_type": "code",
   "execution_count": 21,
   "id": "532b8676",
   "metadata": {},
   "outputs": [],
   "source": [
    "sorted_accuracies = {}\n",
    "for m in [\"CDAN\", \"SourceOnly\", \"MemSAC_CAS\"]:\n",
    "    sorted_accuracies[m] = [classwise_accuracy[m][sn] for sn in sorted_names]"
   ]
  },
  {
   "cell_type": "code",
   "execution_count": 11,
   "id": "cac42481",
   "metadata": {},
   "outputs": [],
   "source": [
    "diff_accuracy = [(a1-a2)*100 for a1,a2 in zip(sorted_accuracies[\"MemSAC_CAS\"], sorted_accuracies[\"SourceOnly\"])]"
   ]
  },
  {
   "cell_type": "code",
   "execution_count": null,
   "id": "bd437b4e",
   "metadata": {},
   "outputs": [],
   "source": [
    "plt.figure(figsize=(20,10))\n",
    "plt.bar(list(range(len(sorted_values))), sorted_values, width=0.2)\n",
    "\n",
    "plt.yticks(fontsize=20)\n",
    "plt.xticks(fontsize=20)\n",
    "plt.show()"
   ]
  },
  {
   "cell_type": "code",
   "execution_count": null,
   "id": "59edd740",
   "metadata": {
    "scrolled": false
   },
   "outputs": [],
   "source": [
    "plt.figure(figsize=(20,10))\n",
    "plt.bar(range(len(diff_accuracy)), diff_accuracy)\n",
    "# plt.xticks(range(len(diff_accuracy)), sorted_names, rotation=45)\n",
    "\n",
    "plt.yticks(fontsize=20)\n",
    "plt.xticks(fontsize=20)\n",
    "plt.show()"
   ]
  },
  {
   "cell_type": "code",
   "execution_count": 22,
   "id": "788487d5",
   "metadata": {},
   "outputs": [
    {
     "data": {
      "text/plain": [
       "(0.3887819529325238, 0.2634145020859895, 0.2754755621529496)"
      ]
     },
     "execution_count": 22,
     "metadata": {},
     "output_type": "execute_result"
    }
   ],
   "source": [
    "med1, med2 = 100,20# sorted_values[115], sorted_values[230]\n",
    "diff_high = np.mean([da for da,cn in zip(sorted_accuracies[\"MemSAC_CAS\"], sorted_values) if cn > med1])\n",
    "diff_med = np.mean([da for da,cn in zip(sorted_accuracies[\"MemSAC_CAS\"], sorted_values) if cn < med1 and cn>med2 ])\n",
    "diff_low = np.mean([da for da,cn in zip(sorted_accuracies[\"MemSAC_CAS\"], sorted_values) if cn < med2])\n",
    "diff_high, diff_med, diff_low ## MSAC"
   ]
  },
  {
   "cell_type": "code",
   "execution_count": 24,
   "id": "41d8287a",
   "metadata": {
    "scrolled": false
   },
   "outputs": [
    {
     "data": {
      "text/plain": [
       "(0.3314024560887172, 0.15246208796858354, 0.015503875968992248)"
      ]
     },
     "execution_count": 24,
     "metadata": {},
     "output_type": "execute_result"
    }
   ],
   "source": [
    "med1, med2 = 100,20# sorted_values[115], sorted_values[230]\n",
    "diff_high = np.mean([da for da,cn in zip(sorted_accuracies[\"CDAN\"], sorted_values) if cn > med1])\n",
    "diff_med = np.mean([da for da,cn in zip(sorted_accuracies[\"CDAN\"], sorted_values) if cn < med1 and cn>med2 ])\n",
    "diff_low = np.mean([da for da,cn in zip(sorted_accuracies[\"CDAN\"], sorted_values) if cn < med2])\n",
    "diff_high, diff_med, diff_low ## CDAN"
   ]
  },
  {
   "cell_type": "code",
   "execution_count": 25,
   "id": "98dd99a5",
   "metadata": {},
   "outputs": [
    {
     "data": {
      "text/plain": [
       "(0.2435454011694886, 0.08881168375129249, 0.0)"
      ]
     },
     "execution_count": 25,
     "metadata": {},
     "output_type": "execute_result"
    }
   ],
   "source": [
    "med1, med2 = 100,20# sorted_values[115], sorted_values[230]\n",
    "diff_high = np.mean([da for da,cn in zip(sorted_accuracies[\"SourceOnly\"], sorted_values) if cn > med1])\n",
    "diff_med = np.mean([da for da,cn in zip(sorted_accuracies[\"SourceOnly\"], sorted_values) if cn < med1 and cn>med2 ])\n",
    "diff_low = np.mean([da for da,cn in zip(sorted_accuracies[\"SourceOnly\"], sorted_values) if cn < med2])\n",
    "diff_high, diff_med, diff_low ## CDAN"
   ]
  },
  {
   "cell_type": "code",
   "execution_count": 13,
   "id": "3b91549b",
   "metadata": {},
   "outputs": [
    {
     "data": {
      "text/plain": [
       "(15.474826957008371, 21.921580333670732)"
      ]
     },
     "execution_count": 13,
     "metadata": {},
     "output_type": "execute_result"
    }
   ],
   "source": [
    "med1 = sorted_values[225]\n",
    "diff_high = np.mean([da for da,cn in zip(diff_accuracy, sorted_values) if cn > med1])\n",
    "diff_low = np.mean([da for da,cn in zip(diff_accuracy, sorted_values) if cn < med1])\n",
    "diff_high, diff_low ## CDAN"
   ]
  },
  {
   "cell_type": "code",
   "execution_count": 14,
   "id": "20a68231",
   "metadata": {},
   "outputs": [
    {
     "data": {
      "image/png": "[encoded data removed]",
      "text/plain": [
       "<Figure size 864x576 with 1 Axes>"
      ]
     },
     "metadata": {
      "needs_background": "light"
     },
     "output_type": "display_data"
    }
   ],
   "source": [
    "plt.figure(figsize=(12,8))\n",
    "\n",
    "w=0.1\n",
    "offset=0.05\n",
    "\n",
    "idxs = np.array([0,0.35])\n",
    "plt.bar(idxs-0.05 , [33.1,1.5], width=w, label=\"CDAN\")\n",
    "plt.bar(idxs+0.05 , [38.8,27.5], width=w, label=\"Our baseline\")\n",
    "\n",
    "plt.yticks(fontsize=20)\n",
    "plt.ylabel(\"Average target accuracy (%)\", fontsize=20)\n",
    "\n",
    "plt.text(0.013, 15.6, \"+5.2%\", color=\"brown\", fontsize=25, weight=\"bold\")\n",
    "plt.text(0.34, 22, \"+15.4%\", color=\"brown\", fontsize=25, weight=\"bold\")\n",
    "\n",
    "plt.ylim([0,24])\n",
    "\n",
    "ax = plt.gca()\n",
    "ax.spines['top'].set_visible(False)\n",
    "ax.spines['right'].set_visible(False)\n",
    "\n",
    "plt.xticks(idxs, [\"Head Classes\",\"Tail Classes\"], fontsize=26)\n",
    "\n",
    "\n",
    "plt.tick_params(\n",
    "    axis='x',          # changes apply to the x-axis\n",
    "    which='minor',      # both major and minor ticks are affected\n",
    "    bottom=False,      # ticks along the bottom edge are off\n",
    "    top=False,         # ticks along the top edge are off\n",
    "    labelbottom=False) # labels along the bottom edge are off\n",
    "\n",
    "\n",
    "plt.legend(fontsize=20)\n",
    "\n",
    "plt.savefig(\"LongTail.pdf\", format=\"pdf\", dpi=1200, bbox_inches='tight')\n",
    "\n",
    "plt.show()"
   ]
  },
  {
   "cell_type": "code",
   "execution_count": 13,
   "id": "573da7cd",
   "metadata": {},
   "outputs": [
    {
     "data": {
      "image/png": "[encoded data removed]",
      "text/plain": [
       "<Figure size 864x576 with 1 Axes>"
      ]
     },
     "metadata": {
      "needs_background": "light"
     },
     "output_type": "display_data"
    }
   ],
   "source": [
    "plt.figure(figsize=(12,8))\n",
    "\n",
    "idxs = np.array([0,0.5])\n",
    "plt.bar(idxs-0.1, [22.52,1.25], width=0.09, label=\"Source Model\")\n",
    "plt.bar(idxs, [26.56,  7.49], width=0.09, label=\"LDAM\")\n",
    "plt.bar(idxs+0.1, [40, 53], width=0.09, label=\"Target Upper Bound\")\n",
    "\n",
    "plt.yticks(fontsize=20)\n",
    "plt.ylabel(\"Average target accuracy (%)\", fontsize=20)\n",
    "\n",
    "# plt.text(0.013, 15.6, \"+5.2%\", color=\"brown\", fontsize=25, weight=\"bold\")\n",
    "# plt.text(0.34, 22, \"+15.4%\", color=\"brown\", fontsize=25, weight=\"bold\")\n",
    "\n",
    "ax = plt.gca()\n",
    "ax.spines['top'].set_visible(False)\n",
    "ax.spines['right'].set_visible(False)\n",
    "\n",
    "plt.xticks([0,0.5], [\"Head Classes\" ,\"Tail Classes\"], fontsize=26)\n",
    "\n",
    "\n",
    "plt.tick_params(\n",
    "    axis='x',          # changes apply to the x-axis\n",
    "    which='minor',      # both major and minor ticks are affected\n",
    "    bottom=False,      # ticks along the bottom edge are off\n",
    "    top=False,         # ticks along the top edge are off\n",
    "    labelbottom=False) # labels along the bottom edge are off\n",
    "\n",
    "\n",
    "plt.legend(fontsize=20)\n",
    "\n",
    "plt.savefig(\"LongTail_LDAM.pdf\", format=\"pdf\", dpi=1200, bbox_inches='tight')\n",
    "\n",
    "plt.show()"
   ]
  },
  {
   "cell_type": "code",
   "execution_count": 38,
   "id": "3ce74044",
   "metadata": {},
   "outputs": [
    {
     "data": {
      "image/png": "[encoded data removed]",
      "text/plain": [
       "<Figure size 1296x432 with 1 Axes>"
      ]
     },
     "metadata": {
      "needs_background": "light"
     },
     "output_type": "display_data"
    }
   ],
   "source": [
    "plt.figure(figsize=(18,6))\n",
    "\n",
    "w=0.05\n",
    "offset=0.05\n",
    "\n",
    "source = np.array([22.5,10.76,1.25])\n",
    "CDAN = np.array([33.1, 15.2, 1.5])\n",
    "LDAM = np.array([26.56, 17.3, 7.49])\n",
    "baseline = np.array([38.8, 26.3, 27.50])\n",
    "target = np.array([40.97, 37.78, 53.19])\n",
    "\n",
    "idxs = np.array([0.5,1.,1.5])\n",
    "plt.bar(idxs-0.1 , source, width=w, label=\"Source Only Model\")\n",
    "plt.bar(idxs-0.05 , CDAN, width=w, label=\"CDAN\")\n",
    "plt.bar(idxs , LDAM, width=w, label=\"LDAM\")\n",
    "plt.bar(idxs+0.05 , baseline, width=w, label=\"Our baseline\")\n",
    "plt.bar(idxs+0.1 , target, width=w, label=\"Target Upper Bound\")\n",
    "\n",
    "\n",
    "plt.yticks(fontsize=20)\n",
    "plt.ylabel(\"Average target accuracy (%)\", fontsize=20)\n",
    "\n",
    "# plt.text(0.013, 15.6, \"+5.2%\", color=\"brown\", fontsize=25, weight=\"bold\")\n",
    "# plt.text(0.34, 22, \"+15.4%\", color=\"brown\", fontsize=25, weight=\"bold\")\n",
    "\n",
    "plt.ylim([0,65])\n",
    "\n",
    "ax = plt.gca()\n",
    "ax.spines['top'].set_visible(False)\n",
    "ax.spines['right'].set_visible(False)\n",
    "\n",
    "plt.xticks(idxs, [\"Head Classes\",\"Middle Classes\",\"Tail Classes\"], fontsize=26)\n",
    "\n",
    "\n",
    "plt.tick_params(\n",
    "    axis='x',          # changes apply to the x-axis\n",
    "    which='minor',      # both major and minor ticks are affected\n",
    "    bottom=False,      # ticks along the bottom edge are off\n",
    "    top=False,         # ticks along the top edge are off\n",
    "    labelbottom=False) # labels along the bottom edge are off\n",
    "\n",
    "\n",
    "plt.legend(fontsize=20, ncol=3, loc=\"upper left\")\n",
    "\n",
    "plt.savefig(\"LongTail_idea.pdf\", format=\"pdf\", dpi=1200, bbox_inches='tight')\n",
    "\n",
    "plt.show()"
   ]
  },
  {
   "cell_type": "code",
   "execution_count": null,
   "id": "dea425cf",
   "metadata": {},
   "outputs": [],
   "source": []
  }
 ],
 "metadata": {
  "kernelspec": {
   "display_name": "Python 3",
   "language": "python",
   "name": "python3"
  },
  "language_info": {
   "codemirror_mode": {
    "name": "ipython",
    "version": 3
   },
   "file_extension": ".py",
   "mimetype": "text/x-python",
   "name": "python",
   "nbconvert_exporter": "python",
   "pygments_lexer": "ipython3",
   "version": "3.6.13"
  }
 },
 "nbformat": 4,
 "nbformat_minor": 5
}
