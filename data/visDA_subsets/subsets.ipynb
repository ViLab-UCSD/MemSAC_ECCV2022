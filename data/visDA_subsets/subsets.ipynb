{
 "cells": [
  {
   "cell_type": "code",
   "execution_count": 1,
   "id": "32840962",
   "metadata": {},
   "outputs": [],
   "source": [
    "import numpy as np\n",
    "import os, sys"
   ]
  },
  {
   "cell_type": "code",
   "execution_count": 2,
   "id": "bd8e208a",
   "metadata": {},
   "outputs": [],
   "source": [
    "filenames = [\"real_train.txt\" , \"clipart_test.txt\" , \"clipart_train.txt\"]"
   ]
  },
  {
   "cell_type": "code",
   "execution_count": 3,
   "id": "1d2c843a",
   "metadata": {},
   "outputs": [],
   "source": [
    "n_classes  = [10,30,75,100,150,200,275,345]"
   ]
  },
  {
   "cell_type": "code",
   "execution_count": 12,
   "id": "710da365",
   "metadata": {},
   "outputs": [],
   "source": [
    "sample_id = 147"
   ]
  },
  {
   "cell_type": "code",
   "execution_count": 13,
   "id": "e4c56f4e",
   "metadata": {},
   "outputs": [],
   "source": [
    "for n_c in n_classes:\n",
    "    class_set = sorted(np.random.choice(np.arange(345),n_c,replace=False))\n",
    "    for fn in filenames:\n",
    "        class_set_ids = [str(n) for n in class_set]\n",
    "        k = []\n",
    "        for idx in class_set_ids:\n",
    "            curr_k = os.popen(f'grep \".jpg {idx}$\" {fn}').read().split(\"\\n\")[:-1]\n",
    "            if len(curr_k) == 0:\n",
    "                print(\"Abort this run.\" , idx)\n",
    "            k += curr_k\n",
    "        with open(f\"{fn.split('.')[0]}_{n_c}C_{sample_id}.txt\" , \"w\") as fh:\n",
    "            for ln in k:\n",
    "                fh.write(ln + \"\\n\")"
   ]
  },
  {
   "cell_type": "code",
   "execution_count": null,
   "id": "7eac7c66",
   "metadata": {},
   "outputs": [],
   "source": []
  }
 ],
 "metadata": {
  "kernelspec": {
   "display_name": "Python 3",
   "language": "python",
   "name": "python3"
  },
  "language_info": {
   "codemirror_mode": {
    "name": "ipython",
    "version": 3
   },
   "file_extension": ".py",
   "mimetype": "text/x-python",
   "name": "python",
   "nbconvert_exporter": "python",
   "pygments_lexer": "ipython3",
   "version": "3.6.9"
  }
 },
 "nbformat": 4,
 "nbformat_minor": 5
}
