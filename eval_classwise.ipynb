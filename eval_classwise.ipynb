{
 "cells": [
  {
   "cell_type": "code",
   "execution_count": 1,
   "id": "084d8211",
   "metadata": {},
   "outputs": [],
   "source": [
    "import torch\n",
    "import torch.nn as nn\n",
    "import pre_process as prep\n",
    "from data_list import ImageList\n",
    "import numpy as np\n",
    "from torchvision import transforms, models\n",
    "\n",
    "import matplotlib.pyplot as plt\n",
    "\n",
    "import model as model_no\n",
    "\n",
    "from sklearn.svm import LinearSVC\n",
    "\n",
    "from eval import AverageMeter\n",
    "\n",
    "import os\n",
    "os.environ[\"CUDA_VISIBLE_DEVICES\"] = str(3)\n",
    "\n",
    "from sklearn.linear_model import LinearRegression"
   ]
  },
  {
   "cell_type": "code",
   "execution_count": 2,
   "id": "67fa3655",
   "metadata": {},
   "outputs": [],
   "source": [
    "transform = transforms.Compose([\n",
    "    transforms.Resize(256),\n",
    "    # ResizeImage(resize_size),\n",
    "    transforms.CenterCrop((224,224)),\n",
    "    transforms.ToTensor(),\n",
    "    transforms.Normalize(mean=[0.485, 0.456, 0.406],\n",
    "                                   std=[0.229, 0.224, 0.225])\n",
    "  ])"
   ]
  },
  {
   "cell_type": "code",
   "execution_count": 3,
   "id": "3f5ded72",
   "metadata": {},
   "outputs": [],
   "source": [
    "def wrap_array(n_samples, n_bins):\n",
    "    \n",
    "    n_samples = np.array(n_samples)\n",
    "    n_samples = n_samples.reshape(n_bins, len(n_samples)//n_bins).mean(1)\n",
    "    return n_samples"
   ]
  },
  {
   "cell_type": "markdown",
   "id": "2480d8af",
   "metadata": {},
   "source": [
    "## Load the source and target data"
   ]
  },
  {
   "cell_type": "code",
   "execution_count": 4,
   "id": "58652b43",
   "metadata": {},
   "outputs": [],
   "source": [
    "class Resnet50Fc(nn.Module):\n",
    "    def __init__(self):\n",
    "        super(Resnet50Fc, self).__init__()\n",
    "        model_resnet50 = models.resnet50(pretrained=True)\n",
    "        self.conv1 = model_resnet50.conv1\n",
    "        self.bn1 = model_resnet50.bn1\n",
    "        self.relu = model_resnet50.relu\n",
    "        self.maxpool = model_resnet50.maxpool\n",
    "        self.layer1 = model_resnet50.layer1\n",
    "        self.layer2 = model_resnet50.layer2\n",
    "        self.layer3 = model_resnet50.layer3\n",
    "        self.layer4 = model_resnet50.layer4\n",
    "        self.avgpool = model_resnet50.avgpool\n",
    "        self.__in_features = model_resnet50.fc.in_features\n",
    "\n",
    "    def forward(self, x):\n",
    "        x = self.conv1(x)\n",
    "        x = self.bn1(x)\n",
    "        x = self.relu(x)\n",
    "        x = self.maxpool(x)\n",
    "        x = self.layer1(x)\n",
    "        x = self.layer2(x)\n",
    "        x = self.layer3(x)\n",
    "        x = self.layer4(x)\n",
    "        x = self.avgpool(x)\n",
    "        x = x.view(x.size(0), -1)\n",
    "        return x\n",
    "    \n",
    "    def output_num(self):\n",
    "        return self.__in_features"
   ]
  },
  {
   "cell_type": "code",
   "execution_count": 5,
   "id": "7958296a",
   "metadata": {},
   "outputs": [],
   "source": [
    "class predictor(nn.Module):\n",
    "    def __init__(self, feature_len, cate_num):\n",
    "        super(predictor, self).__init__()\n",
    "        self.classifier = nn.Linear(feature_len, cate_num)\n",
    "        self.classifier.weight.data.normal_(0, 0.01)\n",
    "        self.classifier.bias.data.fill_(0.0)\n",
    "\n",
    "    def forward(self, features):\n",
    "        activations = self.classifier(features)\n",
    "        return (activations)\n",
    "\n",
    "    \n",
    "class fine_net(nn.Module):\n",
    "    def __init__(self, total_classes, batch_norm=False):\n",
    "        super(fine_net, self).__init__()\n",
    "        self.model_fc = model_no.Resnet50Fc()\n",
    "        feature_len = self.model_fc.output_num()\n",
    "        self.bottleneck_0 = nn.Linear(feature_len, 256)\n",
    "        self.bottleneck_0.weight.data.normal_(0, 0.005)\n",
    "        self.bottleneck_0.bias.data.fill_(0.1)\n",
    "        if batch_norm:\n",
    "            self.bottleneck_layer = nn.Sequential(self.bottleneck_0, nn.ReLU(), nn.BatchNorm1d(256))\n",
    "        else:\n",
    "            self.bottleneck_layer = nn.Sequential(self.bottleneck_0, nn.ReLU())\n",
    "        self.classifier_layer = predictor(256, total_classes)\n",
    "\n",
    "    def forward(self, x):\n",
    "        features = self.model_fc(x)\n",
    "        out_bottleneck = self.bottleneck_layer(features)\n",
    "        logits = self.classifier_layer(out_bottleneck)\n",
    "        return logits"
   ]
  },
  {
   "cell_type": "code",
   "execution_count": 6,
   "id": "c66dea0b",
   "metadata": {},
   "outputs": [],
   "source": [
    "def percls_accuracy(all_pred, all_label, num_class=0):\n",
    "    \"\"\"Computes per class accuracy\"\"\"\n",
    "    num_class = len(set(all_label)) if num_class == 0 else num_class\n",
    "    all_pred = np.asarray(all_pred)\n",
    "    all_label = np.asarray(all_label)\n",
    "\n",
    "    cls_acc = -np.ones([num_class])\n",
    "    for i in range(num_class):\n",
    "        idx = (all_label == i)\n",
    "        if idx.sum() > 0:\n",
    "            cls_acc[i] = (all_pred[idx] == all_label[idx]).mean() * 100.0\n",
    "\n",
    "    return cls_acc"
   ]
  },
  {
   "cell_type": "code",
   "execution_count": 25,
   "id": "d930d78f",
   "metadata": {
    "scrolled": false
   },
   "outputs": [],
   "source": [
    "source, target = \"sketch\", \"painting\"\n",
    "\n",
    "CBS = True\n",
    "if CBS:\n",
    "    model = fine_net(345, batch_norm=True)\n",
    "    pretrained = torch.load(\"snapshot/domainNet_full_ablation/MemSAC_%s%s_QS_48000_BS_32_tau_0-07_lambda_0_CAS/best_model.pth.tar\"%(source, target))\n",
    "else:\n",
    "    model = fine_net(345)\n",
    "    pretrained = torch.load(\"snapshot/domainNet_full/CDAN/CDAN_%s%s_QS_48000_BS_32_tau_0-007_lambda_0/best_model.pth.tar\"%(source, target))\n",
    "    pretrained = {k.partition(\"module.\")[-1]:v for k,v in pretrained.items()}\n",
    "    \n",
    "# \n",
    "model.load_state_dict(pretrained, strict=True)\n",
    "# \n",
    "model = model.cuda()\n",
    "model = model.eval()"
   ]
  },
  {
   "cell_type": "code",
   "execution_count": 26,
   "id": "50a4179b",
   "metadata": {},
   "outputs": [],
   "source": [
    "dataset_list = ImageList(\"/newfoundland/tarun/datasets/Adaptation/visDA/\", open(\"./data/visDA_full/%s_test.txt\"%(target)).readlines(), transform=prep.image_test(resize_size=256, crop_size=224))\n",
    "dataset_loader_target = torch.utils.data.DataLoader(dataset_list, batch_size=64, shuffle=False, num_workers=16, drop_last=False)\n",
    "nclasses=345\n",
    "\n",
    "dataset_list = ImageList(\"/newfoundland/tarun/datasets/Adaptation/visDA/\", open(\"./data/visDA_full/%s_test.txt\"%(source)).readlines(), transform=prep.image_test(resize_size=256, crop_size=224))\n",
    "dataset_loader_source = torch.utils.data.DataLoader(dataset_list, batch_size=64, shuffle=False, num_workers=16, drop_last=False)\n",
    "nclasses=345\n",
    "\n",
    "# dataset_list = ImageList(\"/newfoundland/tarun/datasets/Adaptation/OfficeHome/Dataset10072016/\", open(\"./data/officeHome/Product.txt\").readlines(), transform=prep.image_test(resize_size=256, crop_size=224))\n",
    "# dataset_loader_source = torch.utils.data.DataLoader(dataset_list, batch_size=64, shuffle=False, num_workers=16, drop_last=False)\n",
    "# nclasses=65\n",
    "\n",
    "# dataset_list = ImageList(\"/newfoundland/tarun/datasets/birds/\", open(\"./data/cub200/cub200_2011.txt\").readlines(), transform=prep.image_test(resize_size=256, crop_size=224))\n",
    "# dataset_loader_source = torch.utils.data.DataLoader(dataset_list, batch_size=64, shuffle=False, num_workers=16, drop_last=False)\n",
    "# nclasses=200"
   ]
  },
  {
   "cell_type": "code",
   "execution_count": 27,
   "id": "c87c0ff5",
   "metadata": {},
   "outputs": [
    {
     "name": "stdout",
     "output_type": "stream",
     "text": [
      "342/342\n",
      "Correct Predictions: 9335/21850\n",
      "test_acc:0.4272\n"
     ]
    }
   ],
   "source": [
    "accuracy = AverageMeter()\n",
    "all_preds = []\n",
    "all_labels = []\n",
    "for idx , (image, labels) in enumerate(dataset_loader_target):\n",
    "    print(\"{}/{}\".format(idx+1, len(dataset_loader_target)), end=\"\\r\")\n",
    "    image = image.cuda()\n",
    "    labels = labels.cuda()\n",
    "    with torch.no_grad():\n",
    "        outputs = model(image)\n",
    "        predictions = outputs.detach().argmax(1)\n",
    "    correct = torch.sum((predictions == labels).float())\n",
    "    accuracy.update(correct/len(outputs), len(outputs))\n",
    "    all_preds.extend(predictions.cpu().numpy().tolist())\n",
    "    all_labels.extend(labels.cpu().numpy().tolist())\n",
    "print_str = \"\\nCorrect Predictions: {}/{}\".format(int(accuracy.sum), accuracy.count)\n",
    "print_str1 = '\\ntest_acc:{:.4f}'.format(accuracy.avg)\n",
    "print(print_str + print_str1)"
   ]
  },
  {
   "cell_type": "code",
   "execution_count": 28,
   "id": "08e5725b",
   "metadata": {},
   "outputs": [],
   "source": [
    "classwise_accuracy = percls_accuracy(all_preds, all_labels, 345)\n",
    "classwise_accuracy = {i:ca for i,ca in enumerate(classwise_accuracy)}"
   ]
  },
  {
   "cell_type": "code",
   "execution_count": 29,
   "id": "36739fee",
   "metadata": {},
   "outputs": [
    {
     "name": "stdout",
     "output_type": "stream",
     "text": [
      "327/327\r"
     ]
    }
   ],
   "source": [
    "all_labels_source = []\n",
    "for idx, (image, labels) in enumerate(dataset_loader_source):\n",
    "    print(\"{}/{}\".format(idx+1, len(dataset_loader_source)), end=\"\\r\")\n",
    "    all_labels_source.extend(labels.numpy().tolist())"
   ]
  },
  {
   "cell_type": "code",
   "execution_count": 30,
   "id": "bac56de7",
   "metadata": {},
   "outputs": [],
   "source": [
    "n_samples_per_class_target = dict(zip(*np.unique(all_labels, return_counts=True)))\n",
    "n_samples_per_class_source = dict(zip(*np.unique(all_labels_source, return_counts=True)))"
   ]
  },
  {
   "cell_type": "markdown",
   "id": "b892e801",
   "metadata": {},
   "source": [
    "## Plot wrt source"
   ]
  },
  {
   "cell_type": "code",
   "execution_count": 41,
   "id": "eea038f8",
   "metadata": {},
   "outputs": [
    {
     "name": "stdout",
     "output_type": "stream",
     "text": [
      "0.20479712634150946\n"
     ]
    }
   ],
   "source": [
    "sorted_sample = sorted(n_samples_per_class_source.items(), key=lambda l : l[1], reverse=True)\n",
    "keyset = [k[0] for k in sorted_sample]\n",
    "n_samples = [k[1] for k in sorted_sample]\n",
    "accuracy = [classwise_accuracy[k] for k in keyset]\n",
    "n_samples = wrap_array(n_samples, n_bins=69)\n",
    "accuracy = wrap_array(accuracy, n_bins=69)\n",
    "\n",
    "reg = LinearRegression().fit(np.array(n_samples).reshape(-1,1), accuracy)\n",
    "print(reg.score(np.array(n_samples).reshape(-1,1), accuracy))"
   ]
  },
  {
   "cell_type": "code",
   "execution_count": 42,
   "id": "18dc6fd6",
   "metadata": {},
   "outputs": [
    {
     "data": {
      "image/png": "[encoded data removed]",
      "text/plain": [
       "<Figure size 576x432 with 1 Axes>"
      ]
     },
     "metadata": {
      "needs_background": "light"
     },
     "output_type": "display_data"
    }
   ],
   "source": [
    "plt.figure(figsize=(8,6))\n",
    "plt.scatter(np.arange(len(n_samples))*5, n_samples)\n",
    "\n",
    "plt.xticks(fontsize=16)\n",
    "plt.yticks(fontsize=16)\n",
    "\n",
    "plt.xlabel(\"Class Id\", fontsize=20)\n",
    "plt.ylabel(\"#samples in class\", fontsize=20)\n",
    "plt.show()"
   ]
  },
  {
   "cell_type": "code",
   "execution_count": 43,
   "id": "379c8811",
   "metadata": {
    "scrolled": false
   },
   "outputs": [
    {
     "data": {
      "image/png": "[encoded data removed]",
      "text/plain": [
       "<Figure size 576x432 with 1 Axes>"
      ]
     },
     "metadata": {
      "needs_background": "light"
     },
     "output_type": "display_data"
    }
   ],
   "source": [
    "plt.figure(figsize=(8,6))\n",
    "\n",
    "plt.scatter(n_samples, accuracy)\n",
    "ax = plt.gca()\n",
    "ax.invert_xaxis()\n",
    "\n",
    "plt.xticks(fontsize=16)\n",
    "plt.yticks(fontsize=16)\n",
    "\n",
    "plt.xlabel(\"#samples in class\", fontsize=20)\n",
    "plt.ylabel(\"Class Accuracy\", fontsize=20)\n",
    "\n",
    "plt.ylim(0,60)\n",
    "\n",
    "plt.show()"
   ]
  },
  {
   "cell_type": "code",
   "execution_count": 34,
   "id": "d7d0ce2d",
   "metadata": {},
   "outputs": [
    {
     "data": {
      "text/plain": [
       "array([48.63711495, 31.51515152, 52.03980237, 57.08752053, 67.4114276 ,\n",
       "       29.15256241, 32.36162269, 62.03425746, 56.93852789, 57.22168788,\n",
       "       62.02012214, 56.05194228, 34.1659919 , 19.72342376, 53.02422723,\n",
       "       58.43245064, 48.00955454, 48.41020217, 43.95591719, 34.69919415,\n",
       "       43.70037818, 32.79761905, 33.80392157, 38.28503437, 54.5462963 ,\n",
       "       37.42659356, 53.92802663, 72.87494377, 49.50622363, 23.85113274,\n",
       "       51.29442899, 55.97747932, 49.21548822, 39.35274424, 35.42032813,\n",
       "       32.17616484, 49.73057195, 49.20148719, 38.97947214, 28.89665653,\n",
       "       47.79069542, 61.90213777, 37.12678677, 42.09942667, 43.69254143,\n",
       "       29.95332449, 40.5101626 , 42.58795148, 43.53618597, 37.56772575,\n",
       "       30.0846738 , 50.20593368, 31.90741214, 33.15951893, 15.96137526,\n",
       "       27.21464213, 38.69423132, 29.90240063, 32.06262333, 22.74397749,\n",
       "       41.22235872, 35.19574494, 39.04785643, 16.96585918, 17.40908329,\n",
       "       28.23153525, 13.64785106, 14.44795368, 15.50140195])"
      ]
     },
     "execution_count": 34,
     "metadata": {},
     "output_type": "execute_result"
    }
   ],
   "source": [
    "accuracy"
   ]
  },
  {
   "cell_type": "markdown",
   "id": "52b1c8ff",
   "metadata": {},
   "source": [
    "## Plot wrt target"
   ]
  },
  {
   "cell_type": "code",
   "execution_count": 35,
   "id": "c7124cfd",
   "metadata": {},
   "outputs": [
    {
     "name": "stdout",
     "output_type": "stream",
     "text": [
      "0.12182873453783083\n"
     ]
    }
   ],
   "source": [
    "sorted_sample = sorted(n_samples_per_class_target.items(), key=lambda l : l[1], reverse=True)\n",
    "keyset = [k[0] for k in sorted_sample]\n",
    "n_samples = [k[1] for k in sorted_sample]\n",
    "accuracy = [classwise_accuracy[k] for k in keyset]\n",
    "n_samples = wrap_array(n_samples, n_bins=43)\n",
    "accuracy = wrap_array(accuracy, n_bins=43)\n",
    "\n",
    "reg = LinearRegression().fit(np.array(n_samples).reshape(-1,1), accuracy)\n",
    "print(reg.score(np.array(n_samples).reshape(-1,1), accuracy))"
   ]
  },
  {
   "cell_type": "code",
   "execution_count": 36,
   "id": "e7a4b9d8",
   "metadata": {},
   "outputs": [
    {
     "data": {
      "image/png": "[encoded data removed]",
      "text/plain": [
       "<Figure size 576x432 with 1 Axes>"
      ]
     },
     "metadata": {
      "needs_background": "light"
     },
     "output_type": "display_data"
    }
   ],
   "source": [
    "plt.figure(figsize=(8,6))\n",
    "plt.scatter(np.arange(len(n_samples))*5, n_samples)\n",
    "\n",
    "plt.xticks(fontsize=16)\n",
    "plt.yticks(fontsize=16)\n",
    "\n",
    "plt.xlabel(\"Class Id\", fontsize=20)\n",
    "plt.ylabel(\"#samples in class\", fontsize=20)\n",
    "plt.show()"
   ]
  },
  {
   "cell_type": "code",
   "execution_count": 40,
   "id": "c507b190",
   "metadata": {},
   "outputs": [
    {
     "data": {
      "image/png": "[encoded data removed]",
      "text/plain": [
       "<Figure size 576x432 with 1 Axes>"
      ]
     },
     "metadata": {
      "needs_background": "light"
     },
     "output_type": "display_data"
    }
   ],
   "source": [
    "plt.figure(figsize=(8,6))\n",
    "\n",
    "plt.scatter(n_samples, accuracy)\n",
    "ax = plt.gca()\n",
    "ax.invert_xaxis()\n",
    "\n",
    "plt.xticks(fontsize=16)\n",
    "plt.yticks(fontsize=16)\n",
    "\n",
    "plt.xlabel(\"#samples in class\", fontsize=20)\n",
    "plt.ylabel(\"Class Accuracy\", fontsize=20)\n",
    "\n",
    "plt.ylim(0,54)\n",
    "plt.show()"
   ]
  },
  {
   "cell_type": "code",
   "execution_count": null,
   "id": "2b3e75c3",
   "metadata": {},
   "outputs": [],
   "source": []
  }
 ],
 "metadata": {
  "kernelspec": {
   "display_name": "Python 3",
   "language": "python",
   "name": "python3"
  },
  "language_info": {
   "codemirror_mode": {
    "name": "ipython",
    "version": 3
   },
   "file_extension": ".py",
   "mimetype": "text/x-python",
   "name": "python",
   "nbconvert_exporter": "python",
   "pygments_lexer": "ipython3",
   "version": "3.6.9"
  }
 },
 "nbformat": 4,
 "nbformat_minor": 5
}
